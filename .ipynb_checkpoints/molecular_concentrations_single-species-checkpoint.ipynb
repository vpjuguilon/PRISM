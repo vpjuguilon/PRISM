{
 "cells": [
  {
   "cell_type": "code",
   "execution_count": null,
   "id": "1260f587",
   "metadata": {},
   "outputs": [],
   "source": [
    "import pandas as pd\n",
    "import numpy as np\n",
    "\n",
    "block1 = 2500\n",
    "block2 = 500\n",
    "block3 = 500\n",
    "block4 = 500"
   ]
  },
  {
   "cell_type": "code",
   "execution_count": 25,
   "id": "781cf24f",
   "metadata": {},
   "outputs": [
    {
     "name": "stdout",
     "output_type": "stream",
     "text": [
      "(4000, 1)\n"
     ]
    },
    {
     "data": {
      "text/plain": [
       "'N2O_label_single.csv'"
      ]
     },
     "execution_count": 25,
     "metadata": {},
     "output_type": "execute_result"
    }
   ],
   "source": [
    "N2O_range = (0.01, 0.3)\n",
    "N2O_avg = np.mean(N2O_range)\n",
    "\n",
    "N2O_part1 = np.random.uniform(*N2O_range, block1) \n",
    "N2O_part2 = np.random.uniform(*N2O_range, block2)  \n",
    "N2O_part3 = np.full(block3, N2O_avg)                \n",
    "N2O_part4 = np.full(block4, N2O_avg)                \n",
    "\n",
    "\n",
    "N2O_samples = np.concatenate([N2O_part1, N2O_part2, N2O_part3, N2O_part4])\n",
    "\n",
    "\n",
    "df = pd.DataFrame({'N2O': N2O_samples})\n",
    "\n",
    "print(df.shape)\n",
    "\n",
    "\n",
    "output_path = \"N2O_label_single.csv\"\n",
    "df.to_csv(output_path, index=False)\n",
    "\n",
    "output_path\n"
   ]
  },
  {
   "cell_type": "code",
   "execution_count": 27,
   "id": "388209db",
   "metadata": {},
   "outputs": [
    {
     "name": "stdout",
     "output_type": "stream",
     "text": [
      "(4000, 1)\n"
     ]
    },
    {
     "data": {
      "text/plain": [
       "'CH4_label_single.csv'"
      ]
     },
     "execution_count": 27,
     "metadata": {},
     "output_type": "execute_result"
    }
   ],
   "source": [
    "CH4_range = (0.01, 0.3)\n",
    "CH4_avg = np.mean(CH4_range)\n",
    "\n",
    "CH4_part1 = np.random.uniform(*CH4_range, block1)\n",
    "CH4_part2 = np.full(block2, CH4_avg)\n",
    "CH4_part3 = np.random.uniform(*CH4_range, block3)           \n",
    "CH4_part4 = np.full(block4, CH4_avg)             \n",
    "\n",
    "\n",
    "CH4_samples = np.concatenate([CH4_part1, CH4_part2, CH4_part3, CH4_part4])\n",
    "\n",
    "\n",
    "df = pd.DataFrame({'CH4': CH4_samples})\n",
    "\n",
    "print(df.shape)\n",
    "\n",
    "output_path = \"CH4_label_single.csv\"\n",
    "df.to_csv(output_path, index=False)\n",
    "\n",
    "output_path\n"
   ]
  },
  {
   "cell_type": "code",
   "execution_count": 28,
   "id": "d98af298",
   "metadata": {},
   "outputs": [
    {
     "name": "stdout",
     "output_type": "stream",
     "text": [
      "(4000, 1)\n"
     ]
    },
    {
     "data": {
      "text/plain": [
       "'CO_label_single.csv'"
      ]
     },
     "execution_count": 28,
     "metadata": {},
     "output_type": "execute_result"
    }
   ],
   "source": [
    "CO_range = (0.01, 0.3)\n",
    "CO_avg = np.mean(CO_range)\n",
    "\n",
    "CO_part1 = np.random.uniform(*CO_range, block1)  \n",
    "CO_part2 = np.full(block2, CO_avg)  \n",
    "CO_part3 = np.full(block3, CO_avg)             \n",
    "CO_part4 = np.random.uniform(*CO_range, block4)          \n",
    "\n",
    "CO_samples = np.concatenate([CO_part1, CO_part2, CO_part3, CO_part4])\n",
    "\n",
    "df = pd.DataFrame({'CO': CO_samples})\n",
    "\n",
    "print(df.shape)\n",
    "\n",
    "output_path = \"CO_label_single.csv\"\n",
    "df.to_csv(output_path, index=False)\n",
    "\n",
    "output_path\n"
   ]
  },
  {
   "cell_type": "code",
   "execution_count": null,
   "id": "e9eb1e70",
   "metadata": {},
   "outputs": [],
   "source": []
  }
 ],
 "metadata": {
  "kernelspec": {
   "display_name": "Python 3 (ipykernel)",
   "language": "python",
   "name": "python3"
  },
  "language_info": {
   "codemirror_mode": {
    "name": "ipython",
    "version": 3
   },
   "file_extension": ".py",
   "mimetype": "text/x-python",
   "name": "python",
   "nbconvert_exporter": "python",
   "pygments_lexer": "ipython3",
   "version": "3.10.9"
  }
 },
 "nbformat": 4,
 "nbformat_minor": 5
}
